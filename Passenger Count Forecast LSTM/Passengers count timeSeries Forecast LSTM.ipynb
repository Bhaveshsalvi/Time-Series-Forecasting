{
 "cells": [
  {
   "cell_type": "code",
   "execution_count": 149,
   "metadata": {},
   "outputs": [],
   "source": [
    "import pandas as pd\n",
    "import matplotlib.pyplot as plt\n",
    "from sklearn.preprocessing import MinMaxScaler\n",
    "import numpy as np\n",
    "from keras.layers import Dense,LSTM,Dropout\n",
    "from keras.models import Sequential\n",
    "\n",
    "import math\n",
    "from sklearn.metrics import mean_squared_error"
   ]
  },
  {
   "cell_type": "code",
   "execution_count": 6,
   "metadata": {},
   "outputs": [],
   "source": [
    "df = pd.read_csv(\"AirPassengers.csv\")\n"
   ]
  },
  {
   "cell_type": "code",
   "execution_count": 8,
   "metadata": {},
   "outputs": [
    {
     "data": {
      "text/html": [
       "<div>\n",
       "<style scoped>\n",
       "    .dataframe tbody tr th:only-of-type {\n",
       "        vertical-align: middle;\n",
       "    }\n",
       "\n",
       "    .dataframe tbody tr th {\n",
       "        vertical-align: top;\n",
       "    }\n",
       "\n",
       "    .dataframe thead th {\n",
       "        text-align: right;\n",
       "    }\n",
       "</style>\n",
       "<table border=\"1\" class=\"dataframe\">\n",
       "  <thead>\n",
       "    <tr style=\"text-align: right;\">\n",
       "      <th></th>\n",
       "      <th>Month</th>\n",
       "      <th>#Passengers</th>\n",
       "    </tr>\n",
       "  </thead>\n",
       "  <tbody>\n",
       "    <tr>\n",
       "      <th>0</th>\n",
       "      <td>1949-01</td>\n",
       "      <td>112</td>\n",
       "    </tr>\n",
       "    <tr>\n",
       "      <th>1</th>\n",
       "      <td>1949-02</td>\n",
       "      <td>118</td>\n",
       "    </tr>\n",
       "    <tr>\n",
       "      <th>2</th>\n",
       "      <td>1949-03</td>\n",
       "      <td>132</td>\n",
       "    </tr>\n",
       "    <tr>\n",
       "      <th>3</th>\n",
       "      <td>1949-04</td>\n",
       "      <td>129</td>\n",
       "    </tr>\n",
       "    <tr>\n",
       "      <th>4</th>\n",
       "      <td>1949-05</td>\n",
       "      <td>121</td>\n",
       "    </tr>\n",
       "    <tr>\n",
       "      <th>5</th>\n",
       "      <td>1949-06</td>\n",
       "      <td>135</td>\n",
       "    </tr>\n",
       "    <tr>\n",
       "      <th>6</th>\n",
       "      <td>1949-07</td>\n",
       "      <td>148</td>\n",
       "    </tr>\n",
       "    <tr>\n",
       "      <th>7</th>\n",
       "      <td>1949-08</td>\n",
       "      <td>148</td>\n",
       "    </tr>\n",
       "    <tr>\n",
       "      <th>8</th>\n",
       "      <td>1949-09</td>\n",
       "      <td>136</td>\n",
       "    </tr>\n",
       "    <tr>\n",
       "      <th>9</th>\n",
       "      <td>1949-10</td>\n",
       "      <td>119</td>\n",
       "    </tr>\n",
       "  </tbody>\n",
       "</table>\n",
       "</div>"
      ],
      "text/plain": [
       "     Month  #Passengers\n",
       "0  1949-01          112\n",
       "1  1949-02          118\n",
       "2  1949-03          132\n",
       "3  1949-04          129\n",
       "4  1949-05          121\n",
       "5  1949-06          135\n",
       "6  1949-07          148\n",
       "7  1949-08          148\n",
       "8  1949-09          136\n",
       "9  1949-10          119"
      ]
     },
     "execution_count": 8,
     "metadata": {},
     "output_type": "execute_result"
    }
   ],
   "source": [
    "df.head(10)"
   ]
  },
  {
   "cell_type": "code",
   "execution_count": 67,
   "metadata": {},
   "outputs": [
    {
     "data": {
      "text/plain": [
       "array([[0.01544402],\n",
       "       [0.02702703],\n",
       "       [0.05405405],\n",
       "       [0.04826255],\n",
       "       [0.03281853],\n",
       "       [0.05984556],\n",
       "       [0.08494208],\n",
       "       [0.08494208],\n",
       "       [0.06177606],\n",
       "       [0.02895753],\n",
       "       [0.        ],\n",
       "       [0.02702703],\n",
       "       [0.02123552],\n",
       "       [0.04247104],\n",
       "       [0.07142857],\n",
       "       [0.05984556],\n",
       "       [0.04054054],\n",
       "       [0.08687259],\n",
       "       [0.12741313],\n",
       "       [0.12741313],\n",
       "       [0.1042471 ],\n",
       "       [0.05598456],\n",
       "       [0.01930502],\n",
       "       [0.06949807],\n",
       "       [0.07915058],\n",
       "       [0.08880309],\n",
       "       [0.14285714],\n",
       "       [0.11389961],\n",
       "       [0.13127413],\n",
       "       [0.14285714],\n",
       "       [0.18339768],\n",
       "       [0.18339768],\n",
       "       [0.15444015],\n",
       "       [0.11196911],\n",
       "       [0.08108108],\n",
       "       [0.11969112],\n",
       "       [0.12934363],\n",
       "       [0.14671815],\n",
       "       [0.17181467],\n",
       "       [0.14864865],\n",
       "       [0.15250965],\n",
       "       [0.22007722],\n",
       "       [0.24324324],\n",
       "       [0.26640927],\n",
       "       [0.2027027 ],\n",
       "       [0.16795367],\n",
       "       [0.13127413],\n",
       "       [0.17374517],\n",
       "       [0.17760618],\n",
       "       [0.17760618],\n",
       "       [0.25482625],\n",
       "       [0.25289575],\n",
       "       [0.24131274],\n",
       "       [0.26833977],\n",
       "       [0.30888031],\n",
       "       [0.32432432],\n",
       "       [0.25675676],\n",
       "       [0.20656371],\n",
       "       [0.14671815],\n",
       "       [0.18725869],\n",
       "       [0.19305019],\n",
       "       [0.16216216],\n",
       "       [0.25289575],\n",
       "       [0.23745174],\n",
       "       [0.25096525],\n",
       "       [0.30888031],\n",
       "       [0.38223938],\n",
       "       [0.36486486],\n",
       "       [0.2992278 ],\n",
       "       [0.24131274],\n",
       "       [0.19111969],\n",
       "       [0.24131274],\n",
       "       [0.26640927],\n",
       "       [0.24903475],\n",
       "       [0.31467181],\n",
       "       [0.31853282],\n",
       "       [0.32046332],\n",
       "       [0.40733591],\n",
       "       [0.5019305 ],\n",
       "       [0.46911197],\n",
       "       [0.4015444 ],\n",
       "       [0.32818533],\n",
       "       [0.25675676],\n",
       "       [0.33590734],\n",
       "       [0.34749035],\n",
       "       [0.33397683],\n",
       "       [0.41119691],\n",
       "       [0.4034749 ],\n",
       "       [0.41312741],\n",
       "       [0.52123552],\n",
       "       [0.5965251 ],\n",
       "       [0.58108108],\n",
       "       [0.48455598],\n",
       "       [0.38996139],\n",
       "       [0.32239382],\n",
       "       [0.38996139],\n",
       "       [0.40733591],\n",
       "       [0.38030888],\n",
       "       [0.48648649],\n",
       "       [0.47104247],\n",
       "       [0.48455598],\n",
       "       [0.61389961],\n",
       "       [0.6969112 ],\n",
       "       [0.7007722 ],\n",
       "       [0.57915058],\n",
       "       [0.46911197],\n",
       "       [0.38803089],\n",
       "       [0.44787645],\n",
       "       [0.45559846],\n",
       "       [0.41312741],\n",
       "       [0.4980695 ],\n",
       "       [0.47104247],\n",
       "       [0.5       ],\n",
       "       [0.63899614],\n",
       "       [0.74710425],\n",
       "       [0.77413127],\n",
       "       [0.57915058],\n",
       "       [0.49227799],\n",
       "       [0.3976834 ],\n",
       "       [0.44980695],\n",
       "       [0.49420849],\n",
       "       [0.45945946],\n",
       "       [0.58301158],\n",
       "       [0.56370656],\n",
       "       [0.61003861],\n",
       "       [0.71042471],\n",
       "       [0.85714286],\n",
       "       [0.87837838],\n",
       "       [0.69305019],\n",
       "       [0.58494208],\n",
       "       [0.4980695 ],\n",
       "       [0.58108108],\n",
       "       [0.6042471 ],\n",
       "       [0.55405405],\n",
       "       [0.60810811],\n",
       "       [0.68918919],\n",
       "       [0.71042471],\n",
       "       [0.83204633],\n",
       "       [1.        ],\n",
       "       [0.96911197],\n",
       "       [0.77992278],\n",
       "       [0.68918919],\n",
       "       [0.55212355],\n",
       "       [0.63320463]])"
      ]
     },
     "execution_count": 67,
     "metadata": {},
     "output_type": "execute_result"
    }
   ],
   "source": [
    "df"
   ]
  },
  {
   "cell_type": "code",
   "execution_count": 10,
   "metadata": {},
   "outputs": [
    {
     "data": {
      "text/plain": [
       "[<matplotlib.lines.Line2D at 0x8f1d7c0308>]"
      ]
     },
     "execution_count": 10,
     "metadata": {},
     "output_type": "execute_result"
    },
    {
     "data": {
      "image/png": "[encoded data removed]",
      "text/plain": [
       "<Figure size 432x288 with 1 Axes>"
      ]
     },
     "metadata": {
      "needs_background": "light"
     },
     "output_type": "display_data"
    }
   ],
   "source": [
    "plt.plot(df['#Passengers'])"
   ]
  },
  {
   "cell_type": "code",
   "execution_count": 19,
   "metadata": {},
   "outputs": [],
   "source": [
    "scaler = MinMaxScaler()\n",
    "df= scaler.fit_transform(df[['#Passengers']])"
   ]
  },
  {
   "cell_type": "code",
   "execution_count": 141,
   "metadata": {},
   "outputs": [],
   "source": [
    "dfTrain_size = int(len(df)*0.8)\n",
    "dfTest_size = len(df) - dfTrain_size\n"
   ]
  },
  {
   "cell_type": "code",
   "execution_count": 142,
   "metadata": {},
   "outputs": [],
   "source": [
    "dfTrain , dfTest = df[0:dfTrain_size, :] ,df[dfTrain_size: len(df), :]"
   ]
  },
  {
   "cell_type": "code",
   "execution_count": 143,
   "metadata": {},
   "outputs": [],
   "source": [
    "\n",
    "def create_set(dataset , step_size):\n",
    "    x_data = []\n",
    "    y_data = []\n",
    "    for i in range(0,len(dataset)-step_size-1):\n",
    "        x = dataset[i:(i+step_size),0]\n",
    "        y = dataset[i+step_size,0]\n",
    "        x_data.append(x)\n",
    "        y_data.append(y)\n",
    "    return  x_data , y_data"
   ]
  },
  {
   "cell_type": "code",
   "execution_count": 144,
   "metadata": {},
   "outputs": [],
   "source": [
    "step_size = 4\n",
    "X_train, Y_train = create_set(dfTrain , step_size) \n",
    "X_test, y_test = create_set(dfTest , step_size)\n",
    "\n"
   ]
  },
  {
   "cell_type": "code",
   "execution_count": 145,
   "metadata": {},
   "outputs": [],
   "source": [
    "X_train = np.array(X_train)\n",
    "Y_train = np.array(Y_train)\n",
    "X_test = np.array(X_test)\n",
    "Y_test = np.array(y_test)\n"
   ]
  },
  {
   "cell_type": "code",
   "execution_count": 146,
   "metadata": {},
   "outputs": [],
   "source": [
    "X_train = X_train.reshape(X_train.shape[0],4,1)\n",
    "X_test = X_test.reshape(X_test.shape[0],4,1)\n"
   ]
  },
  {
   "cell_type": "code",
   "execution_count": 157,
   "metadata": {},
   "outputs": [
    {
     "name": "stdout",
     "output_type": "stream",
     "text": [
      "Train on 110 samples, validate on 24 samples\n",
      "Epoch 1/100\n",
      "110/110 [==============================] - 2s 15ms/step - loss: 0.0199 - accuracy: 0.0091 - val_loss: 0.0629 - val_accuracy: 0.0000e+00\n",
      "Epoch 2/100\n",
      "110/110 [==============================] - 1s 6ms/step - loss: 0.0119 - accuracy: 0.0091 - val_loss: 0.0315 - val_accuracy: 0.0417\n",
      "Epoch 3/100\n",
      "110/110 [==============================] - 1s 6ms/step - loss: 0.0109 - accuracy: 0.0091 - val_loss: 0.0395 - val_accuracy: 0.0417\n",
      "Epoch 4/100\n",
      "110/110 [==============================] - 1s 6ms/step - loss: 0.0064 - accuracy: 0.0091 - val_loss: 0.0426 - val_accuracy: 0.0417\n",
      "Epoch 5/100\n",
      "110/110 [==============================] - 1s 6ms/step - loss: 0.0115 - accuracy: 0.0091 - val_loss: 0.0424 - val_accuracy: 0.0417\n",
      "Epoch 6/100\n",
      "110/110 [==============================] - 1s 6ms/step - loss: 0.0083 - accuracy: 0.0091 - val_loss: 0.0494 - val_accuracy: 0.0417\n",
      "Epoch 7/100\n",
      "110/110 [==============================] - 1s 6ms/step - loss: 0.0079 - accuracy: 0.0091 - val_loss: 0.0279 - val_accuracy: 0.0417\n",
      "Epoch 8/100\n",
      "110/110 [==============================] - 1s 6ms/step - loss: 0.0082 - accuracy: 0.0091 - val_loss: 0.0246 - val_accuracy: 0.0417\n",
      "Epoch 9/100\n",
      "110/110 [==============================] - 1s 6ms/step - loss: 0.0114 - accuracy: 0.0091 - val_loss: 0.0272 - val_accuracy: 0.0417\n",
      "Epoch 10/100\n",
      "110/110 [==============================] - 1s 6ms/step - loss: 0.0094 - accuracy: 0.0091 - val_loss: 0.0434 - val_accuracy: 0.0417\n",
      "Epoch 11/100\n",
      "110/110 [==============================] - 1s 6ms/step - loss: 0.0079 - accuracy: 0.0091 - val_loss: 0.0286 - val_accuracy: 0.0417\n",
      "Epoch 12/100\n",
      "110/110 [==============================] - 1s 6ms/step - loss: 0.0079 - accuracy: 0.0091 - val_loss: 0.0234 - val_accuracy: 0.0417\n",
      "Epoch 13/100\n",
      "110/110 [==============================] - 1s 6ms/step - loss: 0.0072 - accuracy: 0.0091 - val_loss: 0.0243 - val_accuracy: 0.0417\n",
      "Epoch 14/100\n",
      "110/110 [==============================] - 1s 6ms/step - loss: 0.0074 - accuracy: 0.0091 - val_loss: 0.0402 - val_accuracy: 0.0417\n",
      "Epoch 15/100\n",
      "110/110 [==============================] - 1s 6ms/step - loss: 0.0068 - accuracy: 0.0091 - val_loss: 0.0306 - val_accuracy: 0.0417\n",
      "Epoch 16/100\n",
      "110/110 [==============================] - 1s 6ms/step - loss: 0.0069 - accuracy: 0.0091 - val_loss: 0.0297 - val_accuracy: 0.0417\n",
      "Epoch 17/100\n",
      "110/110 [==============================] - 1s 6ms/step - loss: 0.0073 - accuracy: 0.0091 - val_loss: 0.0195 - val_accuracy: 0.0417\n",
      "Epoch 18/100\n",
      "110/110 [==============================] - 1s 6ms/step - loss: 0.0064 - accuracy: 0.0091 - val_loss: 0.0219 - val_accuracy: 0.0417\n",
      "Epoch 19/100\n",
      "110/110 [==============================] - 1s 6ms/step - loss: 0.0073 - accuracy: 0.0091 - val_loss: 0.0193 - val_accuracy: 0.0417\n",
      "Epoch 20/100\n",
      "110/110 [==============================] - 1s 6ms/step - loss: 0.0048 - accuracy: 0.0091 - val_loss: 0.0201 - val_accuracy: 0.0417\n",
      "Epoch 21/100\n",
      "110/110 [==============================] - 1s 6ms/step - loss: 0.0071 - accuracy: 0.0091 - val_loss: 0.0260 - val_accuracy: 0.0417\n",
      "Epoch 22/100\n",
      "110/110 [==============================] - 1s 6ms/step - loss: 0.0058 - accuracy: 0.0091 - val_loss: 0.0153 - val_accuracy: 0.0417\n",
      "Epoch 23/100\n",
      "110/110 [==============================] - 1s 6ms/step - loss: 0.0062 - accuracy: 0.0091 - val_loss: 0.0166 - val_accuracy: 0.0417\n",
      "Epoch 24/100\n",
      "110/110 [==============================] - 1s 6ms/step - loss: 0.0059 - accuracy: 0.0091 - val_loss: 0.0173 - val_accuracy: 0.0417\n",
      "Epoch 25/100\n",
      "110/110 [==============================] - 1s 6ms/step - loss: 0.0064 - accuracy: 0.0091 - val_loss: 0.0223 - val_accuracy: 0.0417\n",
      "Epoch 26/100\n",
      "110/110 [==============================] - 1s 6ms/step - loss: 0.0052 - accuracy: 0.0091 - val_loss: 0.0183 - val_accuracy: 0.0417\n",
      "Epoch 27/100\n",
      "110/110 [==============================] - 1s 6ms/step - loss: 0.0057 - accuracy: 0.0091 - val_loss: 0.0174 - val_accuracy: 0.0417\n",
      "Epoch 28/100\n",
      "110/110 [==============================] - 1s 6ms/step - loss: 0.0053 - accuracy: 0.0091 - val_loss: 0.0336 - val_accuracy: 0.0417\n",
      "Epoch 29/100\n",
      "110/110 [==============================] - 1s 6ms/step - loss: 0.0055 - accuracy: 0.0091 - val_loss: 0.0106 - val_accuracy: 0.0417\n",
      "Epoch 30/100\n",
      "110/110 [==============================] - 1s 6ms/step - loss: 0.0056 - accuracy: 0.0091 - val_loss: 0.0138 - val_accuracy: 0.0417\n",
      "Epoch 31/100\n",
      "110/110 [==============================] - 1s 6ms/step - loss: 0.0047 - accuracy: 0.0091 - val_loss: 0.0225 - val_accuracy: 0.0417\n",
      "Epoch 32/100\n",
      "110/110 [==============================] - 1s 6ms/step - loss: 0.0050 - accuracy: 0.0091 - val_loss: 0.0169 - val_accuracy: 0.0417\n",
      "Epoch 33/100\n",
      "110/110 [==============================] - 1s 6ms/step - loss: 0.0044 - accuracy: 0.0091 - val_loss: 0.0103 - val_accuracy: 0.0417\n",
      "Epoch 34/100\n",
      "110/110 [==============================] - 1s 6ms/step - loss: 0.0047 - accuracy: 0.0091 - val_loss: 0.0127 - val_accuracy: 0.0417\n",
      "Epoch 35/100\n",
      "110/110 [==============================] - 1s 6ms/step - loss: 0.0051 - accuracy: 0.0091 - val_loss: 0.0162 - val_accuracy: 0.0417\n",
      "Epoch 36/100\n",
      "110/110 [==============================] - 1s 6ms/step - loss: 0.0059 - accuracy: 0.0091 - val_loss: 0.0222 - val_accuracy: 0.0417\n",
      "Epoch 37/100\n",
      "110/110 [==============================] - 1s 6ms/step - loss: 0.0048 - accuracy: 0.0091 - val_loss: 0.0191 - val_accuracy: 0.0417\n",
      "Epoch 38/100\n",
      "110/110 [==============================] - 1s 6ms/step - loss: 0.0053 - accuracy: 0.0091 - val_loss: 0.0166 - val_accuracy: 0.0417\n",
      "Epoch 39/100\n",
      "110/110 [==============================] - 1s 6ms/step - loss: 0.0050 - accuracy: 0.0091 - val_loss: 0.0105 - val_accuracy: 0.0417\n",
      "Epoch 40/100\n",
      "110/110 [==============================] - 1s 6ms/step - loss: 0.0047 - accuracy: 0.0091 - val_loss: 0.0253 - val_accuracy: 0.0417\n",
      "Epoch 41/100\n",
      "110/110 [==============================] - 1s 6ms/step - loss: 0.0043 - accuracy: 0.0091 - val_loss: 0.0165 - val_accuracy: 0.0417\n",
      "Epoch 42/100\n",
      "110/110 [==============================] - 1s 6ms/step - loss: 0.0034 - accuracy: 0.0091 - val_loss: 0.0124 - val_accuracy: 0.0417\n",
      "Epoch 43/100\n",
      "110/110 [==============================] - 1s 6ms/step - loss: 0.0036 - accuracy: 0.0091 - val_loss: 0.0245 - val_accuracy: 0.0417\n",
      "Epoch 44/100\n",
      "110/110 [==============================] - 1s 6ms/step - loss: 0.0035 - accuracy: 0.0091 - val_loss: 0.0127 - val_accuracy: 0.0417\n",
      "Epoch 45/100\n",
      "110/110 [==============================] - 1s 6ms/step - loss: 0.0041 - accuracy: 0.0091 - val_loss: 0.0107 - val_accuracy: 0.0417\n",
      "Epoch 46/100\n",
      "110/110 [==============================] - 1s 6ms/step - loss: 0.0039 - accuracy: 0.0091 - val_loss: 0.0100 - val_accuracy: 0.0417\n",
      "Epoch 47/100\n",
      "110/110 [==============================] - 1s 6ms/step - loss: 0.0046 - accuracy: 0.0091 - val_loss: 0.0183 - val_accuracy: 0.0417\n",
      "Epoch 48/100\n",
      "110/110 [==============================] - 1s 6ms/step - loss: 0.0038 - accuracy: 0.0091 - val_loss: 0.0148 - val_accuracy: 0.0417\n",
      "Epoch 49/100\n",
      "110/110 [==============================] - 1s 6ms/step - loss: 0.0035 - accuracy: 0.0091 - val_loss: 0.0178 - val_accuracy: 0.0417\n",
      "Epoch 50/100\n",
      "110/110 [==============================] - 1s 6ms/step - loss: 0.0036 - accuracy: 0.0091 - val_loss: 0.0077 - val_accuracy: 0.0417\n",
      "Epoch 51/100\n",
      "110/110 [==============================] - 1s 6ms/step - loss: 0.0049 - accuracy: 0.0091 - val_loss: 0.0084 - val_accuracy: 0.0417\n",
      "Epoch 52/100\n",
      "110/110 [==============================] - 1s 6ms/step - loss: 0.0032 - accuracy: 0.0091 - val_loss: 0.0061 - val_accuracy: 0.0417\n",
      "Epoch 53/100\n",
      "110/110 [==============================] - 1s 6ms/step - loss: 0.0039 - accuracy: 0.0091 - val_loss: 0.0147 - val_accuracy: 0.0417\n",
      "Epoch 54/100\n",
      "110/110 [==============================] - 1s 6ms/step - loss: 0.0035 - accuracy: 0.0091 - val_loss: 0.0121 - val_accuracy: 0.0417\n",
      "Epoch 55/100\n",
      "110/110 [==============================] - 1s 6ms/step - loss: 0.0039 - accuracy: 0.0091 - val_loss: 0.0056 - val_accuracy: 0.0417\n",
      "Epoch 56/100\n",
      "110/110 [==============================] - 1s 6ms/step - loss: 0.0037 - accuracy: 0.0091 - val_loss: 0.0147 - val_accuracy: 0.0417\n",
      "Epoch 57/100\n"
     ]
    },
    {
     "name": "stdout",
     "output_type": "stream",
     "text": [
      "110/110 [==============================] - 1s 6ms/step - loss: 0.0038 - accuracy: 0.0091 - val_loss: 0.0073 - val_accuracy: 0.0417\n",
      "Epoch 58/100\n",
      "110/110 [==============================] - 1s 6ms/step - loss: 0.0036 - accuracy: 0.0091 - val_loss: 0.0082 - val_accuracy: 0.0417\n",
      "Epoch 59/100\n",
      "110/110 [==============================] - 1s 5ms/step - loss: 0.0028 - accuracy: 0.0091 - val_loss: 0.0130 - val_accuracy: 0.0417\n",
      "Epoch 60/100\n",
      "110/110 [==============================] - 1s 6ms/step - loss: 0.0036 - accuracy: 0.0091 - val_loss: 0.0099 - val_accuracy: 0.0417\n",
      "Epoch 61/100\n",
      "110/110 [==============================] - 1s 6ms/step - loss: 0.0039 - accuracy: 0.0091 - val_loss: 0.0065 - val_accuracy: 0.0417\n",
      "Epoch 62/100\n",
      "110/110 [==============================] - 1s 5ms/step - loss: 0.0035 - accuracy: 0.0091 - val_loss: 0.0133 - val_accuracy: 0.0417\n",
      "Epoch 63/100\n",
      "110/110 [==============================] - 1s 6ms/step - loss: 0.0032 - accuracy: 0.0091 - val_loss: 0.0130 - val_accuracy: 0.0417\n",
      "Epoch 64/100\n",
      "110/110 [==============================] - 1s 5ms/step - loss: 0.0037 - accuracy: 0.0091 - val_loss: 0.0091 - val_accuracy: 0.0417\n",
      "Epoch 65/100\n",
      "110/110 [==============================] - 1s 6ms/step - loss: 0.0034 - accuracy: 0.0091 - val_loss: 0.0120 - val_accuracy: 0.0417\n",
      "Epoch 66/100\n",
      "110/110 [==============================] - 1s 6ms/step - loss: 0.0035 - accuracy: 0.0091 - val_loss: 0.0053 - val_accuracy: 0.0417\n",
      "Epoch 67/100\n",
      "110/110 [==============================] - 1s 5ms/step - loss: 0.0035 - accuracy: 0.0091 - val_loss: 0.0097 - val_accuracy: 0.0417\n",
      "Epoch 68/100\n",
      "110/110 [==============================] - 1s 6ms/step - loss: 0.0037 - accuracy: 0.0091 - val_loss: 0.0136 - val_accuracy: 0.0417\n",
      "Epoch 69/100\n",
      "110/110 [==============================] - 1s 6ms/step - loss: 0.0033 - accuracy: 0.0091 - val_loss: 0.0174 - val_accuracy: 0.0417\n",
      "Epoch 70/100\n",
      "110/110 [==============================] - 1s 5ms/step - loss: 0.0031 - accuracy: 0.0091 - val_loss: 0.0050 - val_accuracy: 0.0417\n",
      "Epoch 71/100\n",
      "110/110 [==============================] - 1s 6ms/step - loss: 0.0032 - accuracy: 0.0091 - val_loss: 0.0099 - val_accuracy: 0.0417\n",
      "Epoch 72/100\n",
      "110/110 [==============================] - 1s 5ms/step - loss: 0.0040 - accuracy: 0.0091 - val_loss: 0.0169 - val_accuracy: 0.0417\n",
      "Epoch 73/100\n",
      "110/110 [==============================] - 1s 6ms/step - loss: 0.0030 - accuracy: 0.0091 - val_loss: 0.0082 - val_accuracy: 0.0417\n",
      "Epoch 74/100\n",
      "110/110 [==============================] - 1s 6ms/step - loss: 0.0035 - accuracy: 0.0091 - val_loss: 0.0053 - val_accuracy: 0.0417\n",
      "Epoch 75/100\n",
      "110/110 [==============================] - 1s 5ms/step - loss: 0.0035 - accuracy: 0.0091 - val_loss: 0.0123 - val_accuracy: 0.0417\n",
      "Epoch 76/100\n",
      "110/110 [==============================] - 1s 6ms/step - loss: 0.0031 - accuracy: 0.0091 - val_loss: 0.0089 - val_accuracy: 0.0417\n",
      "Epoch 77/100\n",
      "110/110 [==============================] - 1s 6ms/step - loss: 0.0031 - accuracy: 0.0091 - val_loss: 0.0162 - val_accuracy: 0.0417\n",
      "Epoch 78/100\n",
      "110/110 [==============================] - 1s 5ms/step - loss: 0.0037 - accuracy: 0.0091 - val_loss: 0.0176 - val_accuracy: 0.0417\n",
      "Epoch 79/100\n",
      "110/110 [==============================] - 1s 6ms/step - loss: 0.0035 - accuracy: 0.0091 - val_loss: 0.0106 - val_accuracy: 0.0417\n",
      "Epoch 80/100\n",
      "110/110 [==============================] - 1s 6ms/step - loss: 0.0040 - accuracy: 0.0091 - val_loss: 0.0131 - val_accuracy: 0.0417\n",
      "Epoch 81/100\n",
      "110/110 [==============================] - 1s 6ms/step - loss: 0.0037 - accuracy: 0.0091 - val_loss: 0.0079 - val_accuracy: 0.0417\n",
      "Epoch 82/100\n",
      "110/110 [==============================] - 1s 6ms/step - loss: 0.0029 - accuracy: 0.0091 - val_loss: 0.0089 - val_accuracy: 0.0417\n",
      "Epoch 83/100\n",
      "110/110 [==============================] - 1s 5ms/step - loss: 0.0036 - accuracy: 0.0091 - val_loss: 0.0279 - val_accuracy: 0.0417\n",
      "Epoch 84/100\n",
      "110/110 [==============================] - 1s 6ms/step - loss: 0.0041 - accuracy: 0.0091 - val_loss: 0.0186 - val_accuracy: 0.0417\n",
      "Epoch 85/100\n",
      "110/110 [==============================] - 1s 5ms/step - loss: 0.0043 - accuracy: 0.0091 - val_loss: 0.0102 - val_accuracy: 0.0417\n",
      "Epoch 86/100\n",
      "110/110 [==============================] - 1s 6ms/step - loss: 0.0037 - accuracy: 0.0091 - val_loss: 0.0125 - val_accuracy: 0.0417\n",
      "Epoch 87/100\n",
      "110/110 [==============================] - 1s 6ms/step - loss: 0.0031 - accuracy: 0.0091 - val_loss: 0.0114 - val_accuracy: 0.0417\n",
      "Epoch 88/100\n",
      "110/110 [==============================] - 1s 6ms/step - loss: 0.0036 - accuracy: 0.0091 - val_loss: 0.0144 - val_accuracy: 0.0417\n",
      "Epoch 89/100\n",
      "110/110 [==============================] - 1s 6ms/step - loss: 0.0028 - accuracy: 0.0091 - val_loss: 0.0105 - val_accuracy: 0.0417\n",
      "Epoch 90/100\n",
      "110/110 [==============================] - 1s 6ms/step - loss: 0.0036 - accuracy: 0.0091 - val_loss: 0.0152 - val_accuracy: 0.0417\n",
      "Epoch 91/100\n",
      "110/110 [==============================] - 1s 6ms/step - loss: 0.0038 - accuracy: 0.0091 - val_loss: 0.0087 - val_accuracy: 0.0417\n",
      "Epoch 92/100\n",
      "110/110 [==============================] - 1s 6ms/step - loss: 0.0033 - accuracy: 0.0091 - val_loss: 0.0150 - val_accuracy: 0.0417\n",
      "Epoch 93/100\n",
      "110/110 [==============================] - 1s 5ms/step - loss: 0.0036 - accuracy: 0.0091 - val_loss: 0.0114 - val_accuracy: 0.0417\n",
      "Epoch 94/100\n",
      "110/110 [==============================] - 1s 6ms/step - loss: 0.0032 - accuracy: 0.0091 - val_loss: 0.0078 - val_accuracy: 0.0417\n",
      "Epoch 95/100\n",
      "110/110 [==============================] - 1s 6ms/step - loss: 0.0028 - accuracy: 0.0091 - val_loss: 0.0072 - val_accuracy: 0.0417\n",
      "Epoch 96/100\n",
      "110/110 [==============================] - 1s 5ms/step - loss: 0.0037 - accuracy: 0.0091 - val_loss: 0.0179 - val_accuracy: 0.0417\n",
      "Epoch 97/100\n",
      "110/110 [==============================] - 1s 6ms/step - loss: 0.0031 - accuracy: 0.0091 - val_loss: 0.0068 - val_accuracy: 0.0417\n",
      "Epoch 98/100\n",
      "110/110 [==============================] - 1s 6ms/step - loss: 0.0035 - accuracy: 0.0091 - val_loss: 0.0056 - val_accuracy: 0.0417\n",
      "Epoch 99/100\n",
      "110/110 [==============================] - 1s 6ms/step - loss: 0.0031 - accuracy: 0.0091 - val_loss: 0.0061 - val_accuracy: 0.0417\n",
      "Epoch 100/100\n",
      "110/110 [==============================] - 1s 6ms/step - loss: 0.0036 - accuracy: 0.0091 - val_loss: 0.0154 - val_accuracy: 0.0417\n"
     ]
    },
    {
     "data": {
      "text/plain": [
       "<keras.callbacks.callbacks.History at 0x8f3dcd0f08>"
      ]
     },
     "execution_count": 157,
     "metadata": {},
     "output_type": "execute_result"
    }
   ],
   "source": [
    "model = Sequential()\n",
    "model.add(LSTM(50,return_sequences=True,input_shape=(4,1)))\n",
    "model.add(Dropout(0.3))\n",
    "model.add(LSTM(50))\n",
    "model.add(Dropout(0.3))\n",
    "model.add(Dense(1))\n",
    "model.compile(metrics=['accuracy'],loss='mean_squared_error', optimizer='adam')\n",
    "model.fit(X_train,Y_train , validation_data=(X_test,Y_test),epochs=100, batch_size=1, verbose=1)"
   ]
  },
  {
   "cell_type": "code",
   "execution_count": 158,
   "metadata": {},
   "outputs": [],
   "source": [
    "train_pred = model.predict(X_train)\n",
    "test_pred = model.predict(X_test)"
   ]
  },
  {
   "cell_type": "code",
   "execution_count": 159,
   "metadata": {},
   "outputs": [],
   "source": [
    "train_pred = scaler.inverse_transform(train_pred)\n",
    "test_pred =  scaler.inverse_transform(test_pred)"
   ]
  },
  {
   "cell_type": "code",
   "execution_count": 160,
   "metadata": {},
   "outputs": [
    {
     "data": {
      "text/plain": [
       "249.7419100036089"
      ]
     },
     "execution_count": 160,
     "metadata": {},
     "output_type": "execute_result"
    }
   ],
   "source": [
    "math.sqrt(mean_squared_error(Y_train,train_pred))"
   ]
  },
  {
   "cell_type": "code",
   "execution_count": 161,
   "metadata": {},
   "outputs": [
    {
     "data": {
      "text/plain": [
       "400.1252586900716"
      ]
     },
     "execution_count": 161,
     "metadata": {},
     "output_type": "execute_result"
    }
   ],
   "source": [
    "math.sqrt(mean_squared_error(Y_test,test_pred))"
   ]
  },
  {
   "cell_type": "code",
   "execution_count": 162,
   "metadata": {},
   "outputs": [
    {
     "data": {
      "image/png": "[encoded data removed]",
      "text/plain": [
       "<Figure size 432x288 with 1 Axes>"
      ]
     },
     "metadata": {
      "needs_background": "light"
     },
     "output_type": "display_data"
    }
   ],
   "source": [
    "lookback = 4\n",
    "trainpredictplot = np.empty_like(df)\n",
    "trainpredictplot[:,:] = np.nan\n",
    "trainpredictplot[lookback:len(train_pred)+lookback,:] = train_pred\n",
    "\n",
    "testpredictplot = np.empty_like(df)\n",
    "testpredictplot[:,:] = np.nan\n",
    "testpredictplot[len(train_pred)+(2*lookback)+1 : len(df)-1,:] = test_pred\n",
    "\n",
    "plt.plot(scaler.inverse_transform(df))\n",
    "plt.plot(testpredictplot)\n",
    "plt.plot(testpredictplot)\n",
    "plt.show()"
   ]
  },
  {
   "cell_type": "code",
   "execution_count": 163,
   "metadata": {},
   "outputs": [
    {
     "ename": "NameError",
     "evalue": "name 'plot_acf' is not defined",
     "output_type": "error",
     "traceback": [
      "\u001b[1;31m---------------------------------------------------------------------------\u001b[0m",
      "\u001b[1;31mNameError\u001b[0m                                 Traceback (most recent call last)",
      "\u001b[1;32m<ipython-input-163-b6a7b02df7f5>\u001b[0m in \u001b[0;36m<module>\u001b[1;34m\u001b[0m\n\u001b[1;32m----> 1\u001b[1;33m \u001b[0mplot_acf\u001b[0m\u001b[1;33m(\u001b[0m\u001b[0mdf_reconstructed\u001b[0m\u001b[1;33m.\u001b[0m\u001b[0mresid\u001b[0m\u001b[1;33m.\u001b[0m\u001b[0mvalues\u001b[0m\u001b[1;33m)\u001b[0m\u001b[1;33m\u001b[0m\u001b[1;33m\u001b[0m\u001b[0m\n\u001b[0m\u001b[0;32m      2\u001b[0m \u001b[0mplt\u001b[0m\u001b[1;33m.\u001b[0m\u001b[0mshow\u001b[0m\u001b[1;33m(\u001b[0m\u001b[1;33m)\u001b[0m\u001b[1;33m\u001b[0m\u001b[1;33m\u001b[0m\u001b[0m\n",
      "\u001b[1;31mNameError\u001b[0m: name 'plot_acf' is not defined"
     ]
    }
   ],
   "source": []
  }
 ],
 "metadata": {
  "kernelspec": {
   "display_name": "Python 3",
   "language": "python",
   "name": "python3"
  },
  "language_info": {
   "codemirror_mode": {
    "name": "ipython",
    "version": 3
   },
   "file_extension": ".py",
   "mimetype": "text/x-python",
   "name": "python",
   "nbconvert_exporter": "python",
   "pygments_lexer": "ipython3",
   "version": "3.7.7"
  }
 },
 "nbformat": 4,
 "nbformat_minor": 4
}
